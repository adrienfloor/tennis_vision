{
 "cells": [
  {
   "cell_type": "code",
   "execution_count": 65,
   "id": "d1e43470",
   "metadata": {},
   "outputs": [],
   "source": [
    "import pandas as pd\n",
    "\n",
    "url='https://raw.githubusercontent.com/ArtLabss/tennis-tracking/main/bigDF.csv'\n",
    "df = pd.read_csv(url)"
   ]
  },
  {
   "cell_type": "code",
   "execution_count": 66,
   "id": "b5e7a1f6",
   "metadata": {},
   "outputs": [
    {
     "data": {
      "text/html": [
       "<div>\n",
       "<style scoped>\n",
       "    .dataframe tbody tr th:only-of-type {\n",
       "        vertical-align: middle;\n",
       "    }\n",
       "\n",
       "    .dataframe tbody tr th {\n",
       "        vertical-align: top;\n",
       "    }\n",
       "\n",
       "    .dataframe thead th {\n",
       "        text-align: right;\n",
       "    }\n",
       "</style>\n",
       "<table border=\"1\" class=\"dataframe\">\n",
       "  <thead>\n",
       "    <tr style=\"text-align: right;\">\n",
       "      <th></th>\n",
       "      <th>Unnamed: 0</th>\n",
       "      <th>x</th>\n",
       "      <th>y</th>\n",
       "      <th>V</th>\n",
       "      <th>bounce</th>\n",
       "    </tr>\n",
       "  </thead>\n",
       "  <tbody>\n",
       "    <tr>\n",
       "      <th>0</th>\n",
       "      <td>1</td>\n",
       "      <td>961.0</td>\n",
       "      <td>856.0</td>\n",
       "      <td>22.707046</td>\n",
       "      <td>0</td>\n",
       "    </tr>\n",
       "    <tr>\n",
       "      <th>1</th>\n",
       "      <td>2</td>\n",
       "      <td>954.0</td>\n",
       "      <td>852.0</td>\n",
       "      <td>0.000000</td>\n",
       "      <td>0</td>\n",
       "    </tr>\n",
       "    <tr>\n",
       "      <th>2</th>\n",
       "      <td>3</td>\n",
       "      <td>954.0</td>\n",
       "      <td>852.0</td>\n",
       "      <td>0.000000</td>\n",
       "      <td>0</td>\n",
       "    </tr>\n",
       "    <tr>\n",
       "      <th>3</th>\n",
       "      <td>4</td>\n",
       "      <td>954.0</td>\n",
       "      <td>852.0</td>\n",
       "      <td>0.000000</td>\n",
       "      <td>0</td>\n",
       "    </tr>\n",
       "    <tr>\n",
       "      <th>4</th>\n",
       "      <td>5</td>\n",
       "      <td>954.0</td>\n",
       "      <td>852.0</td>\n",
       "      <td>0.000000</td>\n",
       "      <td>0</td>\n",
       "    </tr>\n",
       "  </tbody>\n",
       "</table>\n",
       "</div>"
      ],
      "text/plain": [
       "   Unnamed: 0      x      y          V  bounce\n",
       "0           1  961.0  856.0  22.707046       0\n",
       "1           2  954.0  852.0   0.000000       0\n",
       "2           3  954.0  852.0   0.000000       0\n",
       "3           4  954.0  852.0   0.000000       0\n",
       "4           5  954.0  852.0   0.000000       0"
      ]
     },
     "execution_count": 66,
     "metadata": {},
     "output_type": "execute_result"
    }
   ],
   "source": [
    "df.head()"
   ]
  },
  {
   "cell_type": "code",
   "execution_count": 68,
   "id": "5048c60b",
   "metadata": {
    "scrolled": true
   },
   "outputs": [
    {
     "data": {
      "text/html": [
       "<div>\n",
       "<style scoped>\n",
       "    .dataframe tbody tr th:only-of-type {\n",
       "        vertical-align: middle;\n",
       "    }\n",
       "\n",
       "    .dataframe tbody tr th {\n",
       "        vertical-align: top;\n",
       "    }\n",
       "\n",
       "    .dataframe thead th {\n",
       "        text-align: right;\n",
       "    }\n",
       "</style>\n",
       "<table border=\"1\" class=\"dataframe\">\n",
       "  <thead>\n",
       "    <tr style=\"text-align: right;\">\n",
       "      <th></th>\n",
       "      <th>y</th>\n",
       "      <th>bounce</th>\n",
       "    </tr>\n",
       "  </thead>\n",
       "  <tbody>\n",
       "    <tr>\n",
       "      <th>0</th>\n",
       "      <td>856.0</td>\n",
       "      <td>0</td>\n",
       "    </tr>\n",
       "    <tr>\n",
       "      <th>1</th>\n",
       "      <td>852.0</td>\n",
       "      <td>0</td>\n",
       "    </tr>\n",
       "    <tr>\n",
       "      <th>2</th>\n",
       "      <td>852.0</td>\n",
       "      <td>0</td>\n",
       "    </tr>\n",
       "    <tr>\n",
       "      <th>3</th>\n",
       "      <td>852.0</td>\n",
       "      <td>0</td>\n",
       "    </tr>\n",
       "    <tr>\n",
       "      <th>4</th>\n",
       "      <td>852.0</td>\n",
       "      <td>0</td>\n",
       "    </tr>\n",
       "  </tbody>\n",
       "</table>\n",
       "</div>"
      ],
      "text/plain": [
       "       y  bounce\n",
       "0  856.0       0\n",
       "1  852.0       0\n",
       "2  852.0       0\n",
       "3  852.0       0\n",
       "4  852.0       0"
      ]
     },
     "execution_count": 68,
     "metadata": {},
     "output_type": "execute_result"
    }
   ],
   "source": [
    "data = df.copy()\n",
    "data = data.drop(['x','V','Unnamed: 0'], axis=1)\n",
    "data.head()"
   ]
  },
  {
   "cell_type": "code",
   "execution_count": 69,
   "id": "c1e2997e",
   "metadata": {},
   "outputs": [
    {
     "data": {
      "text/plain": [
       "72"
      ]
     },
     "execution_count": 69,
     "metadata": {},
     "output_type": "execute_result"
    }
   ],
   "source": [
    "# number of total bounces in df\n",
    "data[data['bounce'] == 1].shape[0]"
   ]
  },
  {
   "cell_type": "code",
   "execution_count": 70,
   "id": "bb672b2f",
   "metadata": {},
   "outputs": [
    {
     "name": "stdout",
     "output_type": "stream",
     "text": [
      "CPU times: user 83.6 ms, sys: 606 µs, total: 84.2 ms\n",
      "Wall time: 85.6 ms\n"
     ]
    }
   ],
   "source": [
    "%%time\n",
    "for index, row in data.iterrows():\n",
    "    #selecting from iteration starting at index 3, stopping before last 3 indexes, and when bounce\n",
    "    if index >=3 and index <= (data.shape[0] - 3) and row['bounce'] == 1.0:\n",
    "        #selecting last 3 rows\n",
    "        last_3_rows = data.iloc[index-1]['y'] + data.iloc[index-2]['y'] + data.iloc[index-3]['y']\n",
    "        #selecting next 3 rows\n",
    "        next_3_rows = data.iloc[index+1]['y'] + data.iloc[index+2]['y'] + data.iloc[index+3]['y']\n",
    "        # diff of direction between two predicted bounces\n",
    "        diff = last_3_rows - next_3_rows\n",
    "        # if y at index -1 is greater than y at index - 3 it means we're going from top to bottom of the court\n",
    "        if data.iloc[index-1]['y'] > data.iloc[index-3]['y']:\n",
    "            # in that direction, a diff greater than or equal to zero means a change of direction\n",
    "            # we can conclude that it is a volley and not a bounce\n",
    "            if diff >= 0:\n",
    "                # so we change it to \"not bounce\"\n",
    "                # data.iloc[index]['bounce'] = 0\n",
    "                data.loc[index, 'bounce'] = 0\n",
    "        # if y at index -1 is greater than y at index - 3 it means we're going from bottom to top of the court\n",
    "        elif data.iloc[index-1]['y'] < data.iloc[index-3]['y']:\n",
    "            # in that direction, a diff less than or equal to zero means a change of direction\n",
    "            # we can conclude that it is a volley and not a bounce\n",
    "            if diff <= 0:\n",
    "                # data.iloc[index]['bounce'] = 0\n",
    "                data.loc[index, 'bounce'] = 0\n",
    "    else:\n",
    "        pass"
   ]
  },
  {
   "cell_type": "code",
   "execution_count": 71,
   "id": "d2a3c3b1",
   "metadata": {},
   "outputs": [
    {
     "data": {
      "text/plain": [
       "50"
      ]
     },
     "execution_count": 71,
     "metadata": {},
     "output_type": "execute_result"
    }
   ],
   "source": [
    "# number of total bounces after filtering df\n",
    "data[data['bounce'] == 1].shape[0]"
   ]
  },
  {
   "cell_type": "markdown",
   "id": "28f1ee50",
   "metadata": {},
   "source": [
    "***Filtering 22 'fake' bounces***"
   ]
  },
  {
   "cell_type": "code",
   "execution_count": null,
   "id": "47a2e3b1",
   "metadata": {},
   "outputs": [],
   "source": []
  },
  {
   "cell_type": "code",
   "execution_count": null,
   "id": "65b3833a",
   "metadata": {},
   "outputs": [],
   "source": []
  }
 ],
 "metadata": {
  "kernelspec": {
   "display_name": "Python 3 (ipykernel)",
   "language": "python",
   "name": "python3"
  },
  "language_info": {
   "codemirror_mode": {
    "name": "ipython",
    "version": 3
   },
   "file_extension": ".py",
   "mimetype": "text/x-python",
   "name": "python",
   "nbconvert_exporter": "python",
   "pygments_lexer": "ipython3",
   "version": "3.10.6"
  },
  "toc": {
   "base_numbering": 1,
   "nav_menu": {},
   "number_sections": true,
   "sideBar": true,
   "skip_h1_title": false,
   "title_cell": "Table of Contents",
   "title_sidebar": "Contents",
   "toc_cell": false,
   "toc_position": {},
   "toc_section_display": true,
   "toc_window_display": false
  }
 },
 "nbformat": 4,
 "nbformat_minor": 5
}
